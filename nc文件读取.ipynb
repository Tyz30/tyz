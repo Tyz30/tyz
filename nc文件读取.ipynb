{
 "cells": [
  {
   "cell_type": "code",
   "execution_count": 5,
   "metadata": {},
   "outputs": [
    {
     "name": "stdout",
     "output_type": "stream",
     "text": [
      "267\n",
      "finished\n"
     ]
    }
   ],
   "source": [
    "#批量合并nc并做提取\n",
    "import pandas as pd\n",
    "import os\n",
    "import csv\n",
    "import numpy as np\n",
    "import xarray as xr\n",
    "from operator import itemgetter\n",
    "\n",
    "\n",
    "def extr(path):\n",
    "    ls = os.listdir(path + '\\\\nc_files')\n",
    "    \n",
    "    #读取站点经纬度\n",
    "    loc = pd.read_csv(path + \"\\\\fluxnet.csv\",sep=',',header = None)\n",
    "    loc = loc.values\n",
    "    #设置站点经纬度构成的数组\n",
    "    latitude = loc[1:,1]         \n",
    "    longitude = loc[1:,2]        \n",
    "    all_sites = []\n",
    "    for item in loc[1:,0]:\n",
    "        all_sites.append(item)\n",
    "    os.mkdir(path + '\\\\sites')\n",
    "    os.chdir(path + '\\\\sites')\n",
    "    for site in all_sites:\n",
    "        os.mkdir(site)\n",
    "    \n",
    "    #读取并写入csv\n",
    "    for date in ls:\n",
    "        for i in range(267):\n",
    "            with xr.load_dataset(path + '\\\\nc_files\\\\'+ date).sel(lat = latitude[i], lon = longitude[i], method= 'nearest') as test:         \n",
    "                test_all = test.to_dataframe()       \n",
    "                os.chdir(path + '\\\\sites\\\\'+all_sites[i])\n",
    "                test_all.to_csv(date +'.csv')       #输出csv\n",
    "    \n",
    "    \n",
    "    loc = pd.read_csv(path + \"\\\\fluxnet.csv\",sep=',',header = None)\n",
    "    loc = loc.values\n",
    "    #设置站点经纬度构成的数组\n",
    "    latitude = loc[1:,1]         \n",
    "    longitude = loc[1:,2]        \n",
    "    all_sites = []\n",
    "    for item in loc[1:,0]:\n",
    "        all_sites.append(item)\n",
    "    print(len(all_sites))\n",
    "\n",
    "    os.mkdir(path + '\\\\all_flux_sites')\n",
    "    j = 1\n",
    "    header = np.loadtxt(path + '\\\\sites\\\\' + all_sites[0] + '\\\\' + ls[0] + '.csv', dtype = 'str', delimiter = ',')\n",
    "    \n",
    "    #表格合并&逐站点输出总表\n",
    "    for site in all_sites:\n",
    "        total = header[0]\n",
    "        for dirs,folders,files in os.walk(path + '\\\\sites\\\\' + site):\n",
    "            for file in files:\n",
    "                total = np.vstack((total, pd.read_csv(path + '\\\\sites\\\\' + site+ '\\\\' + file).values))\n",
    "            #print(total)\n",
    "            total = sorted(total[1:], key = itemgetter(0))       #按时间顺序排列总表\n",
    "            output = np.vstack((header[0], total))\n",
    "            os.mkdir(path + '\\\\all_flux_sites\\\\' + site)\n",
    "            output = pd.DataFrame(output)\n",
    "            output.to_csv(path + '\\\\all_flux_sites\\\\' + site + '\\\\Total.csv',index = False, header = None)\n",
    "            \n",
    "    print(\"finished\")\n",
    "\n",
    "#调用主函数\n",
    "extr('D:\\\\2012')"
   ]
  },
  {
   "cell_type": "code",
   "execution_count": null,
   "metadata": {},
   "outputs": [],
   "source": []
  }
 ],
 "metadata": {
  "kernelspec": {
   "display_name": "Python 3",
   "language": "python",
   "name": "python3"
  },
  "language_info": {
   "codemirror_mode": {
    "name": "ipython",
    "version": 3
   },
   "file_extension": ".py",
   "mimetype": "text/x-python",
   "name": "python",
   "nbconvert_exporter": "python",
   "pygments_lexer": "ipython3",
   "version": "3.7.6"
  }
 },
 "nbformat": 4,
 "nbformat_minor": 4
}
